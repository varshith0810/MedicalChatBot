{
 "cells": [
  {
   "cell_type": "code",
   "execution_count": 1,
   "id": "849e9794",
   "metadata": {},
   "outputs": [],
   "source": [
    "%pwd"
   ]
  },
  {
   "cell_type": "code",
   "execution_count": 2,
   "id": "18211366",
   "metadata": {},
   "outputs": [],
   "source": [
    "%pwd\n",
    "%cd /content/MedicalChatBot\n",
    "%mkdir /content/MedicalChatBot/data"
   ]
  },
  {
   "cell_type": "code",
   "execution_count": 3,
   "id": "9bb08769",
   "metadata": {},
   "outputs": [],
   "source": [
    "%pwd\n",
    "%cd /content/MedicalChatBot/research"
   ]
  },
  {
   "cell_type": "code",
   "execution_count": 4,
   "id": "9a096d34",
   "metadata": {},
   "outputs": [],
   "source": [
    "%pwd\n",
    "%cd /content/MedicalChatBot/research\n",
    "%ls -l -a"
   ]
  }
 ],
 "metadata": {},
 "nbformat": 4,
 "nbformat_minor": 5
}
